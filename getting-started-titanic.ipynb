{
 "cells": [
  {
   "cell_type": "code",
   "execution_count": 1,
   "id": "41cf5b15",
   "metadata": {
    "execution": {
     "iopub.execute_input": "2025-01-06T10:19:11.606124Z",
     "iopub.status.busy": "2025-01-06T10:19:11.605762Z",
     "iopub.status.idle": "2025-01-06T10:19:16.276551Z",
     "shell.execute_reply": "2025-01-06T10:19:16.274872Z"
    },
    "papermill": {
     "duration": 4.676317,
     "end_time": "2025-01-06T10:19:16.278990",
     "exception": false,
     "start_time": "2025-01-06T10:19:11.602673",
     "status": "completed"
    },
    "tags": []
   },
   "outputs": [
    {
     "name": "stdout",
     "output_type": "stream",
     "text": [
      "   PassengerId  Survived  Pclass  \\\n",
      "0            1         0       3   \n",
      "1            2         1       1   \n",
      "2            3         1       3   \n",
      "3            4         1       1   \n",
      "4            5         0       3   \n",
      "\n",
      "                                                Name     Sex   Age  SibSp  \\\n",
      "0                            Braund, Mr. Owen Harris    male  22.0      1   \n",
      "1  Cumings, Mrs. John Bradley (Florence Briggs Th...  female  38.0      1   \n",
      "2                             Heikkinen, Miss. Laina  female  26.0      0   \n",
      "3       Futrelle, Mrs. Jacques Heath (Lily May Peel)  female  35.0      1   \n",
      "4                           Allen, Mr. William Henry    male  35.0      0   \n",
      "\n",
      "   Parch            Ticket     Fare Cabin Embarked  \n",
      "0      0         A/5 21171   7.2500   NaN        S  \n",
      "1      0          PC 17599  71.2833   C85        C  \n",
      "2      0  STON/O2. 3101282   7.9250   NaN        S  \n",
      "3      0            113803  53.1000  C123        S  \n",
      "4      0            373450   8.0500   NaN        S  \n",
      "   PassengerId  Pclass                                          Name     Sex  \\\n",
      "0          892       3                              Kelly, Mr. James    male   \n",
      "1          893       3              Wilkes, Mrs. James (Ellen Needs)  female   \n",
      "2          894       2                     Myles, Mr. Thomas Francis    male   \n",
      "3          895       3                              Wirz, Mr. Albert    male   \n",
      "4          896       3  Hirvonen, Mrs. Alexander (Helga E Lindqvist)  female   \n",
      "\n",
      "    Age  SibSp  Parch   Ticket     Fare Cabin Embarked  \n",
      "0  34.5      0      0   330911   7.8292   NaN        Q  \n",
      "1  47.0      1      0   363272   7.0000   NaN        S  \n",
      "2  62.0      0      0   240276   9.6875   NaN        Q  \n",
      "3  27.0      0      0   315154   8.6625   NaN        S  \n",
      "4  22.0      1      1  3101298  12.2875   NaN        S  \n",
      "Cross-validation scores: [0.83240223 0.8258427  0.80898876 0.80898876 0.84269663]\n",
      "Mean cross-validation score: 0.8237838177138912\n",
      "Your submission was successfully saved!\n"
     ]
    }
   ],
   "source": [
    "# Import necessary libraries\n",
    "import numpy as np\n",
    "import pandas as pd\n",
    "from sklearn.ensemble import RandomForestClassifier, VotingClassifier\n",
    "from sklearn.linear_model import LogisticRegression\n",
    "from sklearn.svm import SVC\n",
    "from sklearn.preprocessing import StandardScaler\n",
    "from sklearn.model_selection import cross_val_score\n",
    "\n",
    "# Load the datasets\n",
    "train_data = pd.read_csv(\"/kaggle/input/titanic/train.csv\")\n",
    "test_data = pd.read_csv(\"/kaggle/input/titanic/test.csv\")\n",
    "\n",
    "# Confirm the datasets are loaded\n",
    "print(train_data.head())\n",
    "print(test_data.head())\n",
    "\n",
    "# Handle missing values in training and test datasets\n",
    "train_data[\"Age\"].fillna(train_data[\"Age\"].median(), inplace=True)\n",
    "test_data[\"Age\"].fillna(test_data[\"Age\"].median(), inplace=True)\n",
    "train_data[\"Embarked\"].fillna(train_data[\"Embarked\"].mode()[0], inplace=True)\n",
    "test_data[\"Embarked\"].fillna(test_data[\"Embarked\"].mode()[0], inplace=True)\n",
    "test_data[\"Fare\"].fillna(test_data[\"Fare\"].median(), inplace=True)  # Handle missing 'Fare' in test data\n",
    "\n",
    "# Feature selection\n",
    "features = [\"Pclass\", \"Sex\", \"SibSp\", \"Parch\", \"Age\", \"Fare\", \"Embarked\"]\n",
    "X = pd.get_dummies(train_data[features])\n",
    "X_test = pd.get_dummies(test_data[features])\n",
    "\n",
    "# Ensure both datasets have the same columns\n",
    "X_test = X_test.reindex(columns=X.columns, fill_value=0)\n",
    "y = train_data[\"Survived\"]\n",
    "# Feature scaling\n",
    "scaler = StandardScaler()\n",
    "X[[\"Age\", \"Fare\"]] = scaler.fit_transform(X[[\"Age\", \"Fare\"]])\n",
    "X_test[[\"Age\", \"Fare\"]] = scaler.transform(X_test[[\"Age\", \"Fare\"]])\n",
    "\n",
    "# Define models for the VotingClassifier\n",
    "model1 = LogisticRegression(random_state=1, max_iter=200)\n",
    "model2 = RandomForestClassifier(random_state=1, n_estimators=200, max_depth=10, min_samples_split=5, min_samples_leaf=2)\n",
    "model3 = SVC(probability=True, random_state=1)\n",
    "\n",
    "# Ensemble model\n",
    "ensemble_model = VotingClassifier(estimators=[('lr', model1), ('rf', model2), ('svc', model3)], voting='soft')\n",
    "ensemble_model.fit(X, y)\n",
    "\n",
    "# Evaluate using cross-validation\n",
    "scores = cross_val_score(ensemble_model, X, y, cv=5)\n",
    "print(\"Cross-validation scores:\", scores)\n",
    "print(\"Mean cross-validation score:\", scores.mean())\n",
    "\n",
    "# Make predictions\n",
    "predictions = ensemble_model.predict(X_test)\n",
    "\n",
    "# Save predictions to a CSV file for submission\n",
    "output = pd.DataFrame({'PassengerId': test_data.PassengerId, 'Survived': predictions})\n",
    "output.to_csv('submission.csv', index=False)\n",
    "print(\"Your submission was successfully saved!\")\n",
    "\n"
   ]
  },
  {
   "cell_type": "code",
   "execution_count": null,
   "id": "aff944fb",
   "metadata": {
    "papermill": {
     "duration": 0.001013,
     "end_time": "2025-01-06T10:19:16.281942",
     "exception": false,
     "start_time": "2025-01-06T10:19:16.280929",
     "status": "completed"
    },
    "tags": []
   },
   "outputs": [],
   "source": []
  }
 ],
 "metadata": {
  "kaggle": {
   "accelerator": "none",
   "dataSources": [
    {
     "databundleVersionId": 26502,
     "sourceId": 3136,
     "sourceType": "competition"
    }
   ],
   "dockerImageVersionId": 30822,
   "isGpuEnabled": false,
   "isInternetEnabled": false,
   "language": "python",
   "sourceType": "notebook"
  },
  "kernelspec": {
   "display_name": "Python 3",
   "language": "python",
   "name": "python3"
  },
  "language_info": {
   "codemirror_mode": {
    "name": "ipython",
    "version": 3
   },
   "file_extension": ".py",
   "mimetype": "text/x-python",
   "name": "python",
   "nbconvert_exporter": "python",
   "pygments_lexer": "ipython3",
   "version": "3.10.12"
  },
  "papermill": {
   "default_parameters": {},
   "duration": 7.396532,
   "end_time": "2025-01-06T10:19:17.005140",
   "environment_variables": {},
   "exception": null,
   "input_path": "__notebook__.ipynb",
   "output_path": "__notebook__.ipynb",
   "parameters": {},
   "start_time": "2025-01-06T10:19:09.608608",
   "version": "2.6.0"
  }
 },
 "nbformat": 4,
 "nbformat_minor": 5
}
